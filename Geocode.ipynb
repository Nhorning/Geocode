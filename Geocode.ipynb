{
 "cells": [
  {
   "cell_type": "code",
   "execution_count": 40,
   "metadata": {},
   "outputs": [
    {
     "name": "stdout",
     "output_type": "stream",
     "text": [
      "{'address': {'adminCode2': '0363', 'sourceId': '0363010012084818', 'adminCode3': '', 'adminCode1': '07', 'lng': '4.88132', 'houseNumber': '6', 'locality': 'Amsterdam', 'adminName2': 'Gemeente Amsterdam', 'street': 'Museumplein', 'postalcode': '1071 DJ', 'countryCode': 'NL', 'adminName1': 'North Holland', 'lat': '52.35792'}}\n",
      "\n",
      "52.35792,4.88132\n"
     ]
    }
   ],
   "source": [
    "import requests\n",
    "\n",
    "#Load ProPublica API key without exposing it to github. Request one yourself. They're free.\n",
    "#https://projects.propublica.org/api-docs/congress-api/\n",
    "#APIfile = open('./PROPUBLICA_API_KEY.TXT',)\n",
    "#APIkey = APIfile.read().replace('\\n', '')\n",
    "\n",
    "#simple unit tests - will throw an error if API key is malformed\n",
    "#assert type(APIkey) == str\n",
    "#assert len(APIkey) == 40\n",
    "\n",
    "#create API key header\n",
    "#headers = {'X-API-Key': APIkey}\n",
    "user='nhorning'\n",
    "passwrd = None\n",
    "\n",
    "#API request function\n",
    "def API_Request(end_point, verbose=True):\n",
    "    '''for a given endpoint, return API response from Propublica api as a dictionary'''\n",
    "    \n",
    "    #send request using combined url, endpoint, and headers\n",
    "    response = requests.get('{}?q={}&username={}'.format(url,end_point,user))\n",
    "    \n",
    "    #raise error if status code isn't 200. \n",
    "    response.raise_for_status()\n",
    "    \n",
    "    #return json response interpreted as a dictionary. \n",
    "    return response.json()\n",
    "\n",
    "#?q=Museumplein+6+amsterdam&username=demo\n",
    "#load base url and test endpoint\n",
    "url = 'http://api.geonames.org/geoCodeAddressJSON'\n",
    "test_endpoint = 'Museumplein+6+amsterdam'\n",
    "\n",
    "#test that the API is working. Prints 'OK' on succes\n",
    "response = API_Request(test_endpoint)\n",
    "#assert new_members['status'] == 'OK'\n",
    "#assert new_members['results'][0]['num_results'] == '20'\n",
    "print(response)\n",
    "lat = response['address']['lat']\n",
    "lon = response['address']['lng']\n",
    "print('\\n'+lat+','+lon)"
   ]
  },
  {
   "cell_type": "code",
   "execution_count": 31,
   "metadata": {},
   "outputs": [
    {
     "name": "stdout",
     "output_type": "stream",
     "text": [
      "10901+Genasci+Rd+Nevada+City+CA+95959\n"
     ]
    }
   ],
   "source": [
    "def make_endpoint(address):\n",
    "    '''takes an address and makes it into an endpoint'''\n",
    "    endpoint = address.split(' ')\n",
    "    endpoint = '+'.join(endpoint)\n",
    "    endpoint = endpoint.replace(',','')\n",
    "    \n",
    "    return endpoint\n",
    "\n",
    "test_add = '10901 Genasci Rd, Nevada City CA, 95959'\n",
    "\n",
    "test_end = make_endpoint(test_add)\n",
    "print(test_end)"
   ]
  },
  {
   "cell_type": "code",
   "execution_count": 32,
   "metadata": {},
   "outputs": [
    {
     "name": "stdout",
     "output_type": "stream",
     "text": [
      "{'address': {'adminCode2': '057', 'adminCode3': '', 'adminCode1': 'CA', 'adminName2': 'Nevada', 'lng': '-120.997', 'street': 'Genasci Rd', 'postalcode': '95959', 'countryCode': 'US', 'houseNumber': '', 'locality': '', 'adminName1': 'California', 'lat': '39.27112'}}\n"
     ]
    }
   ],
   "source": [
    "def get_response(address):\n",
    "    '''takes a given address and uses API req to get a lat lon'''\n",
    "    endpoint = make_endpoint(address)\n",
    "    response = API_Request(endpoint)\n",
    "    return response\n",
    "\n",
    "test_response = get_response(test_add)\n",
    "print(test_response)    "
   ]
  },
  {
   "cell_type": "code",
   "execution_count": 38,
   "metadata": {},
   "outputs": [
    {
     "name": "stdout",
     "output_type": "stream",
     "text": [
      " Genasci Rd:39.27112,-120.997\n"
     ]
    }
   ],
   "source": [
    "def print_addy(response):\n",
    "    addy = response['address']\n",
    "    lat = addy['lat']\n",
    "    lon = addy['lng']\n",
    "    street = addy['street']\n",
    "    houseno = addy['houseNumber']\n",
    "    print('{} {}:{},{}'.format(houseno, street, lat, lon,))\n",
    "    \n",
    "response = get_response(test_add)\n",
    "print_addy(response)\n",
    "    "
   ]
  },
  {
   "cell_type": "code",
   "execution_count": null,
   "metadata": {
    "collapsed": true
   },
   "outputs": [],
   "source": []
  }
 ],
 "metadata": {
  "kernelspec": {
   "display_name": "Python 3",
   "language": "python",
   "name": "python3"
  },
  "language_info": {
   "codemirror_mode": {
    "name": "ipython",
    "version": 3
   },
   "file_extension": ".py",
   "mimetype": "text/x-python",
   "name": "python",
   "nbconvert_exporter": "python",
   "pygments_lexer": "ipython3",
   "version": "3.6.3"
  }
 },
 "nbformat": 4,
 "nbformat_minor": 2
}
